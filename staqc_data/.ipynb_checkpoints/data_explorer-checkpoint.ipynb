{
 "cells": [
  {
   "cell_type": "code",
   "execution_count": 1,
   "id": "4f42ccb8-94d7-454c-be1d-4220ad620a4e",
   "metadata": {},
   "outputs": [
    {
     "name": "stderr",
     "output_type": "stream",
     "text": [
      "C:\\Users\\Suchi_yj2wyaw\\AppData\\Local\\Programs\\Python\\Python310\\lib\\site-packages\\tqdm\\auto.py:22: TqdmWarning: IProgress not found. Please update jupyter and ipywidgets. See https://ipywidgets.readthedocs.io/en/stable/user_install.html\n",
      "  from .autonotebook import tqdm as notebook_tqdm\n"
     ]
    }
   ],
   "source": [
    "import pandas as pd\n",
    "import numpy as np\n",
    "from transformers import RobertaTokenizer"
   ]
  },
  {
   "cell_type": "code",
   "execution_count": 77,
   "id": "2de42763-939d-4a1c-8b5f-4bf812458406",
   "metadata": {},
   "outputs": [],
   "source": [
    "tokenizer = RobertaTokenizer.from_pretrained(\"microsoft/codebert-base\")"
   ]
  },
  {
   "cell_type": "markdown",
   "id": "95850244-ec6f-424d-bc28-5f8879195e3c",
   "metadata": {},
   "source": [
    "## Explore Python Dataset"
   ]
  },
  {
   "cell_type": "code",
   "execution_count": 88,
   "id": "c71d172d-be92-4bbb-906e-f482696e053a",
   "metadata": {},
   "outputs": [],
   "source": [
    "df = pd.read_csv(\"python_raw.csv\")\n",
    "code_tokens = tokenizer([line.strip() for line in df['Code']])\n",
    "df['lens'] = [len(inputs) for inputs in code_tokens.input_ids]\n",
    "\n",
    "nl_tokens = tokenizer([line.strip() for line in df['NL']])\n",
    "df['nl_lens'] = [len(inputs) for inputs in nl_tokens.input_ids]"
   ]
  },
  {
   "cell_type": "markdown",
   "id": "dbb04827-1f44-45f3-885e-e57d538080c2",
   "metadata": {},
   "source": [
    "### Code"
   ]
  },
  {
   "cell_type": "code",
   "execution_count": 89,
   "id": "f3679e38-7a60-4ec4-a44c-0ea4752234d8",
   "metadata": {},
   "outputs": [
    {
     "name": "stdout",
     "output_type": "stream",
     "text": [
      "Mean=192, Median=106.0, Mode=19\n"
     ]
    }
   ],
   "source": [
    "# Mean\n",
    "print(\"Mean={}, Median={}, Mode={}\".format(int(df['lens'].mean()), df['lens'].median(), df['lens'].mode()[0]))"
   ]
  },
  {
   "cell_type": "code",
   "execution_count": 90,
   "id": "86b1b570-aa41-4167-9c33-4fc9cf8d2166",
   "metadata": {},
   "outputs": [
    {
     "data": {
      "text/plain": [
       "61310"
      ]
     },
     "execution_count": 90,
     "metadata": {},
     "output_type": "execute_result"
    }
   ],
   "source": [
    "df[(df['lens'] < 200) & (df['nl_lens'] < 30)].shape[0]"
   ]
  },
  {
   "cell_type": "markdown",
   "id": "13a408cc-0ad9-448c-b991-0eb86eab83a8",
   "metadata": {},
   "source": [
    "### NL"
   ]
  },
  {
   "cell_type": "code",
   "execution_count": 91,
   "id": "3c515197-775f-467c-b19f-06628ad72446",
   "metadata": {},
   "outputs": [
    {
     "name": "stdout",
     "output_type": "stream",
     "text": [
      "Mean=13, Median=13.0, Mode=11\n"
     ]
    }
   ],
   "source": [
    "# Mean\n",
    "print(\"Mean={}, Median={}, Mode={}\".format(int(df['nl_lens'].mean()), df['nl_lens'].median(), df['nl_lens'].mode()[0]))"
   ]
  },
  {
   "cell_type": "code",
   "execution_count": 92,
   "id": "33b9ef16-dd2b-42a9-b135-bb8246e2824f",
   "metadata": {},
   "outputs": [
    {
     "data": {
      "text/plain": [
       "61310"
      ]
     },
     "execution_count": 92,
     "metadata": {},
     "output_type": "execute_result"
    }
   ],
   "source": [
    "df[(df['lens'] < 200) & (df['nl_lens'] < 30)].shape[0]"
   ]
  },
  {
   "cell_type": "markdown",
   "id": "444dc9e5-01a0-4de7-a344-2e4c4138f590",
   "metadata": {},
   "source": [
    "### Create a smaller dataset"
   ]
  },
  {
   "cell_type": "code",
   "execution_count": 93,
   "id": "af03d32b-34f7-4152-b5e9-c89379b182c7",
   "metadata": {},
   "outputs": [
    {
     "name": "stdout",
     "output_type": "stream",
     "text": [
      "61310\n",
      "40000\n"
     ]
    }
   ],
   "source": [
    "small_py = df[(df['lens'] < 200) & (df['nl_lens'] < 30)]\n",
    "print(small_py.shape[0])\n",
    "small_py = small_py.sample(40000)\n",
    "print(small_py.shape[0])\n",
    "small_py[['NL', 'Code']].to_csv('python_staqc.csv')"
   ]
  },
  {
   "cell_type": "code",
   "execution_count": 94,
   "id": "374beac2-646b-4939-b576-4c4dce59dee2",
   "metadata": {},
   "outputs": [
    {
     "name": "stdout",
     "output_type": "stream",
     "text": [
      "Mean=80, Median=71.0, Mode=24\n"
     ]
    }
   ],
   "source": [
    "# Mean\n",
    "print(\"Mean={}, Median={}, Mode={}\".format(int(small_py['lens'].mean()), small_py['lens'].median(), small_py['lens'].mode()[0]))"
   ]
  },
  {
   "cell_type": "code",
   "execution_count": 95,
   "id": "e5c1ccfe-eb91-4f8d-bd2b-7cad893acc07",
   "metadata": {},
   "outputs": [
    {
     "data": {
      "text/plain": [
       "<AxesSubplot:>"
      ]
     },
     "execution_count": 95,
     "metadata": {},
     "output_type": "execute_result"
    },
    {
     "data": {
      "image/png": "[encoded data removed]",
      "text/plain": [
       "<Figure size 720x720 with 1 Axes>"
      ]
     },
     "metadata": {
      "needs_background": "light"
     },
     "output_type": "display_data"
    }
   ],
   "source": [
    "small_py['lens'].hist( figsize=(10, 10), ylabelsize=10, xlabelsize=10, bins=15)"
   ]
  },
  {
   "cell_type": "code",
   "execution_count": 96,
   "id": "1ebf1b45-df4a-4455-99e6-cbb8b9f4004d",
   "metadata": {},
   "outputs": [
    {
     "name": "stdout",
     "output_type": "stream",
     "text": [
      "Mean=13, Median=13.0, Mode=12\n"
     ]
    }
   ],
   "source": [
    "# Mean\n",
    "print(\"Mean={}, Median={}, Mode={}\".format(int(small_py['nl_lens'].mean()), small_py['nl_lens'].median(), small_py['nl_lens'].mode()[0]))"
   ]
  },
  {
   "cell_type": "code",
   "execution_count": 97,
   "id": "c8f4a265-dea6-46f6-a684-ae712f72874c",
   "metadata": {},
   "outputs": [
    {
     "data": {
      "text/plain": [
       "<AxesSubplot:>"
      ]
     },
     "execution_count": 97,
     "metadata": {},
     "output_type": "execute_result"
    },
    {
     "data": {
      "image/png": "[encoded data removed]",
      "text/plain": [
       "<Figure size 720x720 with 1 Axes>"
      ]
     },
     "metadata": {
      "needs_background": "light"
     },
     "output_type": "display_data"
    }
   ],
   "source": [
    "small_py['nl_lens'].hist( figsize=(10, 10), ylabelsize=10, xlabelsize=10, bins=15)"
   ]
  },
  {
   "cell_type": "markdown",
   "id": "8564124a-4633-4a38-aafe-e737d3e7ded1",
   "metadata": {},
   "source": [
    "## Explore the SQL Dataset"
   ]
  },
  {
   "cell_type": "code",
   "execution_count": 105,
   "id": "5c4369a7-5f99-4fcb-a5d6-63e669d9d5d8",
   "metadata": {
    "tags": []
   },
   "outputs": [],
   "source": [
    "df = pd.read_csv(\"sql_raw.csv\")\n",
    "code_tokens = tokenizer([line.strip() for line in df['Code']])\n",
    "df['lens'] = [len(inputs) for inputs in code_tokens.input_ids]\n",
    "\n",
    "nl_tokens = tokenizer([line.strip() for line in df['NL']])\n",
    "df['nl_lens'] = [len(inputs) for inputs in nl_tokens.input_ids]"
   ]
  },
  {
   "cell_type": "markdown",
   "id": "aeef81c0-53db-413f-8d23-84653dc27ae3",
   "metadata": {},
   "source": [
    "### Code"
   ]
  },
  {
   "cell_type": "code",
   "execution_count": 106,
   "id": "f8f21a8c-269d-4722-a3be-fbdfac0c84e0",
   "metadata": {},
   "outputs": [
    {
     "name": "stdout",
     "output_type": "stream",
     "text": [
      "Mean=149, Median=91.0, Mode=24\n"
     ]
    }
   ],
   "source": [
    "# Mean\n",
    "print(\"Mean={}, Median={}, Mode={}\".format(int(df['lens'].mean()), df['lens'].median(), df['lens'].mode()[0]))"
   ]
  },
  {
   "cell_type": "code",
   "execution_count": 107,
   "id": "7a6ff50b-2f17-47a7-9785-ee8c34f25619",
   "metadata": {},
   "outputs": [
    {
     "data": {
      "text/plain": [
       "59872"
      ]
     },
     "execution_count": 107,
     "metadata": {},
     "output_type": "execute_result"
    }
   ],
   "source": [
    "df[(df['lens'] < 200) & (df['nl_lens'] < 30)].shape[0]"
   ]
  },
  {
   "cell_type": "markdown",
   "id": "f80337ba-9cc1-4cf3-956d-e98a76c3d5e2",
   "metadata": {},
   "source": [
    "### NL"
   ]
  },
  {
   "cell_type": "code",
   "execution_count": 108,
   "id": "c0aaee45-29da-4f49-bd34-88a36639697b",
   "metadata": {},
   "outputs": [
    {
     "name": "stdout",
     "output_type": "stream",
     "text": [
      "Mean=12, Median=12.0, Mode=10\n"
     ]
    }
   ],
   "source": [
    "# Mean\n",
    "print(\"Mean={}, Median={}, Mode={}\".format(int(df['nl_lens'].mean()), df['nl_lens'].median(), df['nl_lens'].mode()[0]))"
   ]
  },
  {
   "cell_type": "code",
   "execution_count": 109,
   "id": "48cde23f-8d39-4a6b-ad80-77046306a631",
   "metadata": {},
   "outputs": [
    {
     "data": {
      "text/plain": [
       "70329"
      ]
     },
     "execution_count": 109,
     "metadata": {},
     "output_type": "execute_result"
    }
   ],
   "source": [
    "df[df['nl_lens'] < 20].shape[0]"
   ]
  },
  {
   "cell_type": "markdown",
   "id": "74a08154-fdb8-4691-820d-8df157ed5684",
   "metadata": {},
   "source": [
    "### Create a smaller dataset"
   ]
  },
  {
   "cell_type": "code",
   "execution_count": 110,
   "id": "925f13c5-bf91-46ca-bb0e-1366d39893fa",
   "metadata": {},
   "outputs": [
    {
     "name": "stdout",
     "output_type": "stream",
     "text": [
      "59872\n",
      "40000\n"
     ]
    }
   ],
   "source": [
    "small_sql = df[(df['lens'] < 200) & (df['nl_lens'] < 30)]\n",
    "print(small_sql.shape[0])\n",
    "small_sql = small_sql.sample(40000)\n",
    "print(small_sql.shape[0])\n",
    "small_sql[['NL', 'Code']].to_csv('sql_staqc.csv')"
   ]
  },
  {
   "cell_type": "code",
   "execution_count": 111,
   "id": "4847dcae-3f34-4329-8a4a-7b89150148fc",
   "metadata": {},
   "outputs": [
    {
     "name": "stdout",
     "output_type": "stream",
     "text": [
      "Mean=80, Median=71.0, Mode=24\n"
     ]
    }
   ],
   "source": [
    "# Mean\n",
    "print(\"Mean={}, Median={}, Mode={}\".format(int(small_sql['lens'].mean()), small_sql['lens'].median(), small_sql['lens'].mode()[0]))"
   ]
  },
  {
   "cell_type": "code",
   "execution_count": 112,
   "id": "6ac32e79-de58-4d4e-995c-21ea93c9bcdc",
   "metadata": {},
   "outputs": [
    {
     "data": {
      "text/plain": [
       "<AxesSubplot:>"
      ]
     },
     "execution_count": 112,
     "metadata": {},
     "output_type": "execute_result"
    },
    {
     "data": {
      "image/png": "[encoded data removed]",
      "text/plain": [
       "<Figure size 720x720 with 1 Axes>"
      ]
     },
     "metadata": {
      "needs_background": "light"
     },
     "output_type": "display_data"
    }
   ],
   "source": [
    "small_sql['lens'].hist( figsize=(10, 10), ylabelsize=10, xlabelsize=10, bins=15)"
   ]
  },
  {
   "cell_type": "code",
   "execution_count": 113,
   "id": "9c1f4085-dfd6-4f6b-a893-0422745fa47f",
   "metadata": {},
   "outputs": [
    {
     "name": "stdout",
     "output_type": "stream",
     "text": [
      "Mean=12, Median=12.0, Mode=10\n"
     ]
    }
   ],
   "source": [
    "# Mean\n",
    "print(\"Mean={}, Median={}, Mode={}\".format(int(small_sql['nl_lens'].mean()), small_sql['nl_lens'].median(), small_sql['nl_lens'].mode()[0]))"
   ]
  },
  {
   "cell_type": "code",
   "execution_count": 114,
   "id": "034216de-8a10-4dbc-beb8-eb7650227467",
   "metadata": {},
   "outputs": [
    {
     "data": {
      "text/plain": [
       "<AxesSubplot:>"
      ]
     },
     "execution_count": 114,
     "metadata": {},
     "output_type": "execute_result"
    },
    {
     "data": {
      "image/png": "[encoded data removed]",
      "text/plain": [
       "<Figure size 720x720 with 1 Axes>"
      ]
     },
     "metadata": {
      "needs_background": "light"
     },
     "output_type": "display_data"
    }
   ],
   "source": [
    "small_sql['nl_lens'].hist( figsize=(10, 10), ylabelsize=10, xlabelsize=10, bins=15)"
   ]
  },
  {
   "cell_type": "code",
   "execution_count": null,
   "id": "b1dc7128-efc4-4022-9373-90dd101b856b",
   "metadata": {},
   "outputs": [],
   "source": []
  },
  {
   "cell_type": "markdown",
   "id": "b5ce4a9d-34e3-4aea-8596-0f276a23dd65",
   "metadata": {},
   "source": [
    "### Create Train Test Validation Split"
   ]
  },
  {
   "cell_type": "markdown",
   "id": "7ec2fb7d-3e82-4965-96c1-c50756ce1522",
   "metadata": {},
   "source": [
    "#### Python"
   ]
  },
  {
   "cell_type": "code",
   "execution_count": 10,
   "id": "82fee96e-0436-487e-8f46-c75f74ea894e",
   "metadata": {},
   "outputs": [
    {
     "name": "stdout",
     "output_type": "stream",
     "text": [
      "Train Size:28000\n",
      "Test Size:6000\n",
      "Validation Size:6000\n"
     ]
    }
   ],
   "source": [
    "py_data = pd.read_csv('python_staqc.csv')\n",
    "\n",
    "# Create Train, Test, Validation Splits\n",
    "data_size = py_data.shape[0]\n",
    "train_size = int(.70*data_size)\n",
    "test_size = int(data_size * .15)\n",
    "val_size = data_size - train_size - test_size\n",
    "\n",
    "print(\"Train Size:{}\\nTest Size:{}\\nValidation Size:{}\".format(train_size, test_size, val_size)) "
   ]
  },
  {
   "cell_type": "code",
   "execution_count": 11,
   "id": "c52bf262-bbb7-4230-a8f4-b9babed5d4b5",
   "metadata": {},
   "outputs": [],
   "source": [
    "train_data = py_data.sample(train_size)\n",
    "test_data = py_data.sample(test_size)\n",
    "val_data = py_data.sample(val_size)\n",
    "\n",
    "train_data.to_csv(\"./python/train.csv\")\n",
    "test_data.to_csv(\"./python/test.csv\")\n",
    "val_data.to_csv(\"./python/val.csv\")"
   ]
  },
  {
   "cell_type": "markdown",
   "id": "110a6f87-8181-40f7-9f13-50e044f3cd96",
   "metadata": {},
   "source": [
    "#### SQL"
   ]
  },
  {
   "cell_type": "code",
   "execution_count": 12,
   "id": "4a1b2b95-d9ff-4512-baf1-d8b0883381d6",
   "metadata": {},
   "outputs": [
    {
     "name": "stdout",
     "output_type": "stream",
     "text": [
      "Train Size:28000\n",
      "Test Size:6000\n",
      "Validation Size:6000\n"
     ]
    }
   ],
   "source": [
    "sql_data = pd.read_csv('sql_staqc.csv')\n",
    "\n",
    "# Create Train, Test, Validation Splits\n",
    "data_size = sql_data.shape[0]\n",
    "train_size = int(.70*data_size)\n",
    "test_size = int(data_size * .15)\n",
    "val_size = data_size - train_size - test_size\n",
    "\n",
    "print(\"Train Size:{}\\nTest Size:{}\\nValidation Size:{}\".format(train_size, test_size, val_size)) "
   ]
  },
  {
   "cell_type": "code",
   "execution_count": 13,
   "id": "62374ef1-25a3-4d55-8b37-029fbc40b394",
   "metadata": {},
   "outputs": [],
   "source": [
    "train_data = sql_data.sample(train_size)\n",
    "test_data = sql_data.sample(test_size)\n",
    "val_data = sql_data.sample(val_size)\n",
    "\n",
    "train_data.to_csv(\"./sql/train.csv\")\n",
    "test_data.to_csv(\"./sql/test.csv\")\n",
    "val_data.to_csv(\"./sql/val.csv\")"
   ]
  },
  {
   "cell_type": "code",
   "execution_count": null,
   "id": "c3055ee9-4bb6-434f-a9d3-36d972db8ad0",
   "metadata": {},
   "outputs": [],
   "source": []
  }
 ],
 "metadata": {
  "kernelspec": {
   "display_name": "Python 3 (ipykernel)",
   "language": "python",
   "name": "python3"
  },
  "language_info": {
   "codemirror_mode": {
    "name": "ipython",
    "version": 3
   },
   "file_extension": ".py",
   "mimetype": "text/x-python",
   "name": "python",
   "nbconvert_exporter": "python",
   "pygments_lexer": "ipython3",
   "version": "3.10.4"
  }
 },
 "nbformat": 4,
 "nbformat_minor": 5
}
